{
 "cells": [
  {
   "cell_type": "markdown",
   "id": "f665fb5a-9615-42ca-a1df-709e32534b82",
   "metadata": {},
   "source": [
    "# Data Science Tools and Ecosystem"
   ]
  },
  {
   "cell_type": "markdown",
   "id": "b4953d4a-5cca-4a6f-acd3-8b1a12776637",
   "metadata": {
    "tags": []
   },
   "source": [
    "In this notebook, Data Science Tools and Ecosystem are summarized."
   ]
  },
  {
   "cell_type": "markdown",
   "id": "7dc9ca98-7643-4f73-9427-0871c89c7e22",
   "metadata": {},
   "source": [
    "Some of the popular languages that Data Scientists use are:\n",
    "1. Python\n",
    "2. R\n",
    "3. SQL\n",
    "4. Java\n",
    "5. Apache Spark\n"
   ]
  },
  {
   "cell_type": "markdown",
   "id": "66d40a5f-6c85-412f-8b30-a267c561c574",
   "metadata": {},
   "source": [
    "Some of the commonly used libraries used by Data Scientists include:\n",
    "1. scikitlearn\n",
    "2. matplotlib\n",
    "3. pandas\n",
    "4. numpy\n"
   ]
  },
  {
   "cell_type": "markdown",
   "id": "945feaf9-fa71-4487-bd1c-b91450aaa1e7",
   "metadata": {
    "tags": []
   },
   "source": [
    "|Data Science Tools|\n",
    "|------------------|\n",
    "|Python|\n",
    "|R|\n",
    "|Tableu|\n",
    "|Power BI|\n",
    "|Apache Spark|"
   ]
  },
  {
   "cell_type": "markdown",
   "id": "6906bfb4-42b0-4083-871d-2e8e84b9e2ad",
   "metadata": {},
   "source": [
    "### Below are a few examples of evaluating arithmetic expressions in Python"
   ]
  },
  {
   "cell_type": "code",
   "execution_count": 3,
   "id": "d8543083-a244-4746-8858-6c9f0a0ccf11",
   "metadata": {
    "tags": []
   },
   "outputs": [
    {
     "data": {
      "text/plain": [
       "17"
      ]
     },
     "execution_count": 3,
     "metadata": {},
     "output_type": "execute_result"
    }
   ],
   "source": [
    "#This a simple arithmetic expression to mutiply then add integers\n",
    "(3*4)+5"
   ]
  },
  {
   "cell_type": "code",
   "execution_count": 4,
   "id": "a4db70f7-af3c-413f-a1c9-9366f7c6c606",
   "metadata": {
    "tags": []
   },
   "outputs": [
    {
     "data": {
      "text/plain": [
       "3.3333333333333335"
      ]
     },
     "execution_count": 4,
     "metadata": {},
     "output_type": "execute_result"
    }
   ],
   "source": [
    "#This will convert 200 minutes to hours by diving by 60\n",
    "200/60"
   ]
  },
  {
   "cell_type": "markdown",
   "id": "550b6b67-dfae-4ebf-b2b9-7db5c2841fcb",
   "metadata": {},
   "source": [
    "**Objectives:**\n",
    "+ Data Science Tools\n",
    "+ Data Science Libraries\n",
    "+ Popular Languages\n",
    "+ Arithmetic in python\n",
    "+ Converting minutes to hours\n"
   ]
  },
  {
   "cell_type": "markdown",
   "id": "e3bd9edf-f3dd-4be1-9048-964ef651ffb0",
   "metadata": {},
   "source": [
    "## Author\n",
    "Burhanuddin\n"
   ]
  },
  {
   "cell_type": "code",
   "execution_count": null,
   "id": "03b60bc4-1530-48d0-a414-e9a9d06264ce",
   "metadata": {},
   "outputs": [],
   "source": []
  }
 ],
 "metadata": {
  "kernelspec": {
   "display_name": "Python",
   "language": "python",
   "name": "conda-env-python-py"
  },
  "language_info": {
   "codemirror_mode": {
    "name": "ipython",
    "version": 3
   },
   "file_extension": ".py",
   "mimetype": "text/x-python",
   "name": "python",
   "nbconvert_exporter": "python",
   "pygments_lexer": "ipython3",
   "version": "3.7.12"
  }
 },
 "nbformat": 4,
 "nbformat_minor": 5
}
